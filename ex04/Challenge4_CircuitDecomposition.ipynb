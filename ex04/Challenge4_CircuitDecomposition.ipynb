{
 "cells": [
  {
   "cell_type": "markdown",
   "metadata": {},
   "source": [
    "# Exercise 4: Circuit Decomposition\n",
    "Wow! If you managed to solve the first three exercises, congratulations! The fourth problem is supposed to puzzle even the quantum experts among you, so don’t worry if you cannot solve it. If you can, hats off to you!\n",
    "\n",
    "You may recall from your quantum mechanics course that quantum theory is unitary. Therefore, the evolution of any (closed) system can be described by a unitary. But given an arbitrary unitary, can you actually implement it on your quantum computer?\n",
    "\n",
    "**\"A set of quantum gates is said to be universal if any unitary transformation of the quantum data can be efficiently approximated arbitrarily well as a sequence of gates in the set.\"** (https://qiskit.org/textbook/ch-algorithms/defining-quantum-circuits.html)\n",
    "\n",
    "Every gate you run on the IBM Quantum Experience is transpiled into single qubit rotations and CNOT (CX) gates. We know that these constitute a universal gate set, which implies that any unitary can be implemented using only these gates. However, in general it is not easy to find a good decomposition for an arbitrary unitary. Your task is to find such a decomposition.\n",
    "\n",
    "You are given the following unitary:"
   ]
  },
  {
   "cell_type": "code",
   "execution_count": 4,
   "metadata": {
    "scrolled": false
   },
   "outputs": [
    {
     "name": "stdout",
     "output_type": "stream",
     "text": [
      "U has shape (16, 16)\n"
     ]
    }
   ],
   "source": [
    "from may4_challenge.ex4 import get_unitary\n",
    "U = get_unitary()\n",
    "# print(U)\n",
    "print(\"U has shape\", U.shape)"
   ]
  },
  {
   "cell_type": "code",
   "execution_count": 5,
   "metadata": {},
   "outputs": [],
   "source": [
    "from scipy.linalg import hadamard\n",
    "#print(hadamard(16, 'complex')/4)"
   ]
  },
  {
   "cell_type": "markdown",
   "metadata": {},
   "source": [
    "#### What circuit would make such a complicated unitary?\n",
    "\n",
    "Is there some symmetry, or is it random? We just updated Qiskit with the introduction of a quantum circuit library (https://github.com/Qiskit/qiskit-terra/tree/master/qiskit/circuit/library). This library gives users access to a rich set of well-studied circuit families, instances of which can be used as benchmarks (quantum volume), as building blocks in building more complex circuits (adders), or as tools to explore quantum computational advantage over classical computation (instantaneous quantum polynomial complexity circuits)."
   ]
  },
  {
   "cell_type": "code",
   "execution_count": 6,
   "metadata": {},
   "outputs": [],
   "source": [
    "from qiskit import QuantumCircuit\n",
    "from may4_challenge.ex4 import check_circuit, submit_circuit"
   ]
  },
  {
   "cell_type": "markdown",
   "metadata": {},
   "source": [
    "**Using only single qubit rotations and CNOT gates, find a quantum circuit that approximates that unitary $U$ by a unitary $V$ up to an error $\\varepsilon = 0.01$, such that $\\lVert U - V\\rVert_2 \\leq \\varepsilon$ !** \n",
    "\n",
    "Note that the norm we are using here is the spectral norm, $\\qquad \\lVert A \\rVert_2 = \\max_{\\lVert \\psi \\rVert_2= 1} \\lVert A \\psi \\rVert$.\n",
    "\n",
    "This can be seen as the largest scaling factor that the matrix $A$ has on any initial (normalized) state $\\psi$. One can show that this norm corresponds to the largest singular value of $A$, i.e., the square root of the largest eigenvalue of the matrix $A^\\dagger A$, where $A^{\\dagger}$ denotes the conjugate transpose of $A$.\n",
    "\n",
    "**When you submit a circuit, we remove the global phase of the corresponding unitary $V$ before comparing it with $U$ using the spectral norm. For example, if you submit a circuit that generates $V = \\text{e}^{i\\theta}U$, we remove the global phase $\\text{e}^{i\\theta}$ from $V$ before computing the norm, and you will have a successful submission. As a result, you do not have to worry about matching the desired unitary, $U$, up to a global phase.**\n",
    "\n",
    "As the single-qubit gates have a much higher fidelity than the two-qubit gates, we will look at the number of CNOT-gates, $n_{cx}$, and the number of u3-gates, $n_{u3}$, to determine the cost of your decomposition as \n",
    "\n",
    "$$\n",
    "\\qquad \\text{cost} = 10 \\cdot n_{cx} + n_{u3}\n",
    "$$\n",
    "\n",
    "Try to optimize the cost of your decomposition. \n",
    "\n",
    "**Note that you will need to ensure that your circuit is composed only of $u3$ and $cx$ gates. The exercise is considered correctly solved if your cost is smaller than 1600.**\n",
    "\n",
    "---\n",
    "For useful tips to complete this exercise as well as pointers for communicating with other participants and asking questions, please take a look at the following [repository](https://github.com/qiskit-community/may4_challenge_exercises). You will also find a copy of these exercises, so feel free to edit and experiment with these notebooks.\n",
    "\n",
    "---"
   ]
  },
  {
   "cell_type": "code",
   "execution_count": 8,
   "metadata": {},
   "outputs": [
    {
     "name": "stdout",
     "output_type": "stream",
     "text": [
      "[ 1.00000000e+00+1.25333771e-16j  7.07106781e-01+7.07106781e-01j\n",
      " -7.07106781e-01-7.07106781e-01j -4.72712147e-17+1.00000000e+00j\n",
      "  3.59955121e-17+1.00000000e+00j  7.07106781e-01-7.07106781e-01j\n",
      " -7.07106781e-01+7.07106781e-01j -1.00000000e+00-2.47198095e-17j\n",
      " -7.07106781e-01+7.07106781e-01j -1.00000000e+00+7.76288755e-17j\n",
      " -1.00000000e+00+1.86482774e-17j  7.07106781e-01+7.07106781e-01j\n",
      " -7.07106781e-01-7.07106781e-01j  2.64545330e-17+1.00000000e+00j\n",
      " -1.51788304e-17+1.00000000e+00j -7.07106781e-01+7.07106781e-01j]\n"
     ]
    }
   ],
   "source": [
    "import numpy as np\n",
    "from numpy import pi\n",
    "import cmath\n",
    "import math\n",
    "\n",
    "H4 = hadamard(16, 'complex')/4\n",
    "HUH = np.matmul(np.matmul(H4, U), H4)\n",
    "\n",
    "phases = []\n",
    "for theta in np.linspace(0,2*math.pi,500):\n",
    "    phases.append(cmath.exp(theta*1j))\n",
    "\n",
    "print (np.diag(HUH))\n"
   ]
  },
  {
   "cell_type": "code",
   "execution_count": 13,
   "metadata": {},
   "outputs": [],
   "source": [
    "def get_min_cost(qcl):\n",
    "    min_cost = 200\n",
    "    min_qc = QuantumCircuit(1)\n",
    "    min_index = 0\n",
    "    for i in range(len(qcl)):\n",
    "        qc = qcl[i]\n",
    "        co = qc.count_ops()\n",
    "        new_cost = co['cx']*10 + co['u3']\n",
    "        if new_cost < min_cost:\n",
    "            min_cost = new_cost\n",
    "            min_qc = qc\n",
    "            #print (phases[i])\n",
    "            \n",
    "    #print(min_cost)\n",
    "    #print(phases[i])\n",
    "    return min_qc"
   ]
  },
  {
   "cell_type": "code",
   "execution_count": 14,
   "metadata": {
    "scrolled": true
   },
   "outputs": [
    {
     "data": {
      "image/png": "[encoded data removed]",
      "text/plain": [
       "<Figure size 1081.19x325.08 with 1 Axes>"
      ]
     },
     "execution_count": 14,
     "metadata": {},
     "output_type": "execute_result"
    }
   ],
   "source": [
    "##### build your quantum circuit here\n",
    "from qiskit.quantum_info.operators import Operator\n",
    "from qiskit.compiler import transpile\n",
    "from qiskit.extensions.quantum_initializer import isometry\n",
    "from qiskit.visualization import plot_state_city as psc\n",
    "\n",
    "HUH = HUH.round(8)\n",
    "min_cost = 500\n",
    "min_qc = QuantumCircuit(1)\n",
    "qcl = []\n",
    "\n",
    "for i in range(500):\n",
    "\n",
    "    qc = QuantumCircuit(4,4)\n",
    "\n",
    "    qc.h(range(4))\n",
    "    qc.diagonal(np.diag(HUH*phases[i]).tolist(), [0,1,2,3])\n",
    "    qc.h(range(4))\n",
    "    qcl.append(qc)\n",
    "        \n",
    "qcl = transpile(qcl, basis_gates=['u3', 'cx'], optimization_level=3)\n",
    "qc = get_min_cost(qcl)\n",
    "qc.draw('mpl')\n"
   ]
  },
  {
   "cell_type": "code",
   "execution_count": 15,
   "metadata": {},
   "outputs": [
    {
     "data": {
      "image/png": "[encoded data removed]",
      "text/plain": [
       "<Figure size 1081.19x325.08 with 1 Axes>"
      ]
     },
     "execution_count": 15,
     "metadata": {},
     "output_type": "execute_result"
    }
   ],
   "source": [
    "q2 = QuantumCircuit(4,4)\n",
    "q2.u3(pi/2, -pi/4, pi, 0)\n",
    "q2.u3(pi/2, 0, pi, 1)\n",
    "q2.u3(pi/2, pi/2, pi/2, 2)\n",
    "q2.u3(pi, -1.75, -1.75, 3)\n",
    "\n",
    "#swapping the control and target qubits to eliminate the U3 gate on q2\n",
    "q2.h(0)\n",
    "q2.h(1)\n",
    "q2.cx(0,1)\n",
    "q2.h(0)\n",
    "q2.h(1)\n",
    "\n",
    "q2.u3(0, 0, -3*pi/2, 0)\n",
    "q2.cx(0,2)\n",
    "\n",
    "q2.u3(0, 0, -pi, 0)\n",
    "q2.u3(0, 3, 0.14, 2)\n",
    "\n",
    "q2.h(0)\n",
    "q2.h(1)\n",
    "q2.cx(0,1)\n",
    "q2.h(0)\n",
    "q2.h(1)\n",
    "\n",
    "q2.u3(pi/2, 0, pi, 0)\n",
    "q2.u3(pi, 1.06, -4.43, 1)\n",
    "q2.cx(1,3)\n",
    "\n",
    "q2.u3(pi/2, -pi, pi/2, 1)\n",
    "q2.u3(3*pi/4, 3*pi/2, -pi/2, 3)\n",
    "\n",
    "q2 = transpile(q2, basis_gates=['u3', 'cx'], optimization_level=3)\n",
    "q2.draw('mpl')"
   ]
  },
  {
   "cell_type": "code",
   "execution_count": 16,
   "metadata": {},
   "outputs": [
    {
     "data": {
      "text/plain": [
       "\"\\nq3 = QuantumCircuit(4,4)\\nq3.u3(pi/4, pi/2, 3*pi/2, 0)\\nq3.u3(pi/2, pi/2, pi/2, 2)\\nq3.u3(pi, -1.75, -1.75, 3)\\nq3.cx(0,1)\\nq3.u3(pi/2, pi/2, pi, 0)\\nq3.cx(0,2)\\nq3.u3(pi/2, 0, 0, 0)\\nq3.u3(0, 0, pi, 2)\\nq3.cx(0,1)\\nq3.u3(pi/2, 2.35, 0, 1)\\nq3.cx(1,3)\\nq3.u3(pi/2, -pi, pi/2, 1)\\nq3.u3(3*pi/4, 3*pi/2, -pi/2, 3)\\nq3 = transpile(q3, basis_gates=['u3', 'cx'], optimization_level=3)\\nq3.draw('mpl')\\n\""
      ]
     },
     "execution_count": 16,
     "metadata": {},
     "output_type": "execute_result"
    }
   ],
   "source": [
    "'''\n",
    "q3 = QuantumCircuit(4,4)\n",
    "q3.u3(pi/4, pi/2, 3*pi/2, 0)\n",
    "q3.u3(pi/2, pi/2, pi/2, 2)\n",
    "q3.u3(pi, -1.75, -1.75, 3)\n",
    "q3.cx(0,1)\n",
    "q3.u3(pi/2, pi/2, pi, 0)\n",
    "q3.cx(0,2)\n",
    "q3.u3(pi/2, 0, 0, 0)\n",
    "q3.u3(0, 0, pi, 2)\n",
    "q3.cx(0,1)\n",
    "q3.u3(pi/2, 2.35, 0, 1)\n",
    "q3.cx(1,3)\n",
    "q3.u3(pi/2, -pi, pi/2, 1)\n",
    "q3.u3(3*pi/4, 3*pi/2, -pi/2, 3)\n",
    "q3 = transpile(q3, basis_gates=['u3', 'cx'], optimization_level=3)\n",
    "q3.draw('mpl')\n",
    "'''"
   ]
  },
  {
   "cell_type": "code",
   "execution_count": 18,
   "metadata": {},
   "outputs": [
    {
     "name": "stdout",
     "output_type": "stream",
     "text": [
      "Circuit stats:\n",
      "||U-V||_2 = 0.0073240489770171465\n",
      "(U is the reference unitary, V is yours, and the global phase has been removed from both of them).\n",
      "Cost is 49\n",
      "\n",
      "Great! Your circuit meets all the constrains.\n",
      "Your score is 49. The lower, the better!\n",
      "Feel free to submit your answer and remember you can re-submit a new circuit at any time!\n"
     ]
    }
   ],
   "source": [
    "##### check your quantum circuit by running the next line\n",
    "#from qiskit import *\n",
    "#qiskit.__qiskit_version__\n",
    "check_circuit(q2)"
   ]
  },
  {
   "cell_type": "markdown",
   "metadata": {},
   "source": [
    "You can check whether your circuit is valid before submitting it with `check_circuit(qc)`. Once you have a valid solution, please submit it by running the following cell (delete the `#` before `submit_circuit`). You can re-submit at any time.\n"
   ]
  },
  {
   "cell_type": "markdown",
   "metadata": {},
   "source": [
    "## Circuit hasn't been optimised fully yet - still working on bringing it down to 45/46"
   ]
  },
  {
   "cell_type": "code",
   "execution_count": 49,
   "metadata": {},
   "outputs": [
    {
     "data": {
      "text/html": [
       "\n",
       "        <div style=\"border: 2px solid black; padding: 2rem;\">\n",
       "            <p>\n",
       "                Success 🎉! Your circuit has been submitted. Return to the\n",
       "                <a href=\"https://quantum-computing.ibm.com/challenges/4anniversary/?exercise=4\" target=\"_blank\">\n",
       "                    IBM Quantum Challenge page\n",
       "                </a>\n",
       "                and check your score and ranking.\n",
       "            </p>\n",
       "            <p>\n",
       "                Remember that you can submit a circuit as many times as you\n",
       "                want.\n",
       "            </p>\n",
       "        </div>"
      ],
      "text/plain": [
       "<IPython.core.display.HTML object>"
      ]
     },
     "metadata": {},
     "output_type": "display_data"
    }
   ],
   "source": [
    "# Send the circuit as the final answer, can re-submit at any time\n",
    "submit_circuit(q2) "
   ]
  }
 ],
 "metadata": {
  "kernelspec": {
   "display_name": "Python 3",
   "language": "python",
   "name": "python3"
  },
  "language_info": {
   "codemirror_mode": {
    "name": "ipython",
    "version": 3
   },
   "file_extension": ".py",
   "mimetype": "text/x-python",
   "name": "python",
   "nbconvert_exporter": "python",
   "pygments_lexer": "ipython3",
   "version": "3.8.1"
  }
 },
 "nbformat": 4,
 "nbformat_minor": 4
}
